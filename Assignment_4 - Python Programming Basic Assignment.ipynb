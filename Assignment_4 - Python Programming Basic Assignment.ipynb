{
 "cells": [
  {
   "cell_type": "markdown",
   "metadata": {},
   "source": [
    "### 1. Write a Python Program to Find the Factorial of a Number?"
   ]
  },
  {
   "cell_type": "code",
   "execution_count": 11,
   "metadata": {},
   "outputs": [
    {
     "name": "stdout",
     "output_type": "stream",
     "text": [
      "Please Enter the number: 5\n",
      "The factorial of number 5 is 120\n"
     ]
    }
   ],
   "source": [
    "while True:\n",
    "    num = int(input(\"Please Enter the number: \"))\n",
    "    if num >= 0:\n",
    "        break\n",
    "    else:\n",
    "        continue\n",
    "        \n",
    "fact=1       \n",
    "for i in range(1,num+1):\n",
    "    fact *= i\n",
    "    \n",
    "print(f\"The factorial of number {num} is {fact}\")   "
   ]
  },
  {
   "cell_type": "markdown",
   "metadata": {},
   "source": [
    "### 2. Write a Python Program to Display the multiplication Table?"
   ]
  },
  {
   "cell_type": "code",
   "execution_count": 12,
   "metadata": {},
   "outputs": [
    {
     "name": "stdout",
     "output_type": "stream",
     "text": [
      "Please enter the number to display it's table: 7\n",
      "7 * 1 = 7\n",
      "7 * 2 = 14\n",
      "7 * 3 = 21\n",
      "7 * 4 = 28\n",
      "7 * 5 = 35\n",
      "7 * 6 = 42\n",
      "7 * 7 = 49\n",
      "7 * 8 = 56\n",
      "7 * 9 = 63\n",
      "7 * 10 = 70\n"
     ]
    }
   ],
   "source": [
    "num = int(input(\"Please enter the number to display it's table: \"))\n",
    "\n",
    "for i in range(1, 11):\n",
    "    print (num, \"*\", i, '=', num*i)"
   ]
  },
  {
   "cell_type": "markdown",
   "metadata": {},
   "source": [
    "### 3. Write a Python Program to Print the Fibonacci sequence?"
   ]
  },
  {
   "cell_type": "code",
   "execution_count": 7,
   "metadata": {},
   "outputs": [
    {
     "name": "stdout",
     "output_type": "stream",
     "text": [
      "Please Enter the number till which series has to be generated: 6\n",
      "Fibonacci Series:  0 1 1 2 3 5 "
     ]
    }
   ],
   "source": [
    "while True:\n",
    "    num = int(input(\"Please Enter the number till which series has to be generated: \"))\n",
    "    if num >= 0:\n",
    "        break\n",
    "    else:\n",
    "        continue\n",
    "        \n",
    "a = 0\n",
    "b = 1\n",
    "sum = 0\n",
    "count = 1\n",
    "print(\"Fibonacci Series: \", end = \" \")\n",
    "while(count <= num):\n",
    "    print(sum, end = \" \")\n",
    "    count += 1\n",
    "    a = b\n",
    "    b = sum\n",
    "    sum = a + b"
   ]
  },
  {
   "cell_type": "markdown",
   "metadata": {},
   "source": [
    "### 4. Write a Python Program to Check Armstrong Number?"
   ]
  },
  {
   "cell_type": "code",
   "execution_count": 13,
   "metadata": {},
   "outputs": [
    {
     "name": "stdout",
     "output_type": "stream",
     "text": [
      "Please Enter the number: 407\n",
      "Number 407 is a Armstrong Number\n"
     ]
    }
   ],
   "source": [
    "while True:\n",
    "    num = int(input(\"Please Enter the number: \"))\n",
    "    if num >= 0:\n",
    "        break\n",
    "    else:\n",
    "        continue\n",
    "        \n",
    "sum=0\n",
    "temp = num\n",
    "while temp >  0:\n",
    "    digit = temp%10\n",
    "    sum += digit**3\n",
    "    temp = temp//10\n",
    "\n",
    "if num==sum:\n",
    "    print(f'Number {num} is a Armstrong Number')\n",
    "else:\n",
    "    print(f'Number {num} is not a Armstrong Number')"
   ]
  },
  {
   "cell_type": "markdown",
   "metadata": {},
   "source": [
    "### 5. Write a Python Program to Find Armstrong Number in an Interval?"
   ]
  },
  {
   "cell_type": "code",
   "execution_count": 10,
   "metadata": {},
   "outputs": [
    {
     "name": "stdout",
     "output_type": "stream",
     "text": [
      "Please Enter the lower limit: 0\n",
      "Please Enter the upper limit:500\n",
      "0\n",
      "1\n",
      "153\n",
      "370\n",
      "371\n",
      "407\n"
     ]
    }
   ],
   "source": [
    "while True:\n",
    "    lower = int(input(\"Please Enter the lower limit: \"))\n",
    "    if lower >= 0:\n",
    "        break\n",
    "    else:\n",
    "        continue\n",
    "\n",
    "while True:\n",
    "    upper = int(input(\"Please Enter the upper limit:\"))\n",
    "    if upper >= 0:\n",
    "        break\n",
    "    else:\n",
    "        continue\n",
    "\n",
    "for num in range(lower,upper + 1):  \n",
    "    sum = 0  \n",
    "    temp = num  \n",
    "    while temp > 0:  \n",
    "        digit = temp % 10  \n",
    "        sum += digit ** 3  \n",
    "        temp //= 10  \n",
    "    if num == sum:  \n",
    "        print(num) "
   ]
  },
  {
   "cell_type": "markdown",
   "metadata": {},
   "source": [
    "### 6. Write a Python Program to Find the Sum of Natural Numbers?"
   ]
  },
  {
   "cell_type": "code",
   "execution_count": 14,
   "metadata": {},
   "outputs": [
    {
     "name": "stdout",
     "output_type": "stream",
     "text": [
      "Please Enter the number till you want sum: 5\n",
      "The sum of natural numbers till 5 is 15\n"
     ]
    }
   ],
   "source": [
    "while True:\n",
    "    num = int(input(\"Please Enter the number till you want sum: \"))\n",
    "    if num >= 0:\n",
    "        break\n",
    "    else:\n",
    "        continue\n",
    "        \n",
    "sum=0\n",
    "for i in range(num+1):\n",
    "    sum+=i\n",
    "    \n",
    "print(f\"The sum of natural numbers till {num} is {sum}\")"
   ]
  },
  {
   "cell_type": "code",
   "execution_count": null,
   "metadata": {},
   "outputs": [],
   "source": []
  },
  {
   "cell_type": "code",
   "execution_count": null,
   "metadata": {},
   "outputs": [],
   "source": []
  }
 ],
 "metadata": {
  "kernelspec": {
   "display_name": "Python 3",
   "language": "python",
   "name": "python3"
  },
  "language_info": {
   "codemirror_mode": {
    "name": "ipython",
    "version": 3
   },
   "file_extension": ".py",
   "mimetype": "text/x-python",
   "name": "python",
   "nbconvert_exporter": "python",
   "pygments_lexer": "ipython3",
   "version": "3.7.6"
  }
 },
 "nbformat": 4,
 "nbformat_minor": 4
}
