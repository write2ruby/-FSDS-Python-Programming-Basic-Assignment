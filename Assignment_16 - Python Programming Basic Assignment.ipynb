{
 "cells": [
  {
   "cell_type": "markdown",
   "metadata": {},
   "source": [
    "## Question-1"
   ]
  },
  {
   "cell_type": "raw",
   "metadata": {},
   "source": [
    "Write a function that stutters a word as if someone is struggling to read it. The first two letters are repeated twice with an ellipsis ... and space after each, and then the word is pronounced with a question mark ?.\n",
    "Examples\n",
    "stutter(\"incredible\") ➞ \"in... in... incredible?\"\n",
    "\n",
    "stutter(\"enthusiastic\") ➞ \"en... en... enthusiastic?\"\n",
    "\n",
    "stutter(\"outstanding\") ➞ \"ou... ou... outstanding?\"\n",
    "\n",
    "Hint :- Assume all input is in lower case and at least two characters long.\n"
   ]
  },
  {
   "cell_type": "code",
   "execution_count": 15,
   "metadata": {},
   "outputs": [
    {
     "data": {
      "text/plain": [
       "'ou... ou... outstanding?'"
      ]
     },
     "execution_count": 15,
     "metadata": {},
     "output_type": "execute_result"
    }
   ],
   "source": [
    "def stutter(myword):\n",
    "    myword = myword[slice(2)] + '... ' + myword[slice(2)] + '... ' + myword + '?'\n",
    "    return (myword)\n",
    "    \n",
    "\n",
    "stutter(\"incredible\")\n",
    "stutter(\"enthusiastic\")\n",
    "stutter(\"outstanding\")"
   ]
  },
  {
   "cell_type": "markdown",
   "metadata": {},
   "source": [
    "## Question-2"
   ]
  },
  {
   "cell_type": "raw",
   "metadata": {},
   "source": [
    "Create a function that takes an angle in radians and returns the corresponding angle in degrees rounded to one decimal place.\n",
    "Examples\n",
    "radians_to_degrees(1) ➞ 57.3\n",
    "\n",
    "radians_to_degrees(20) ➞ 1145.9\n",
    "\n",
    "radians_to_degrees(50) ➞ 2864.8\n"
   ]
  },
  {
   "cell_type": "code",
   "execution_count": 14,
   "metadata": {},
   "outputs": [
    {
     "data": {
      "text/plain": [
       "2864.8"
      ]
     },
     "execution_count": 14,
     "metadata": {},
     "output_type": "execute_result"
    }
   ],
   "source": [
    "def  radians_to_degrees(angle_radians):\n",
    "    return round((57.296 * angle_radians), 1)\n",
    "\n",
    "\n",
    "radians_to_degrees(1)\n",
    "radians_to_degrees(20)\n",
    "radians_to_degrees(50)"
   ]
  },
  {
   "cell_type": "markdown",
   "metadata": {},
   "source": [
    "## Question-3"
   ]
  },
  {
   "cell_type": "raw",
   "metadata": {},
   "source": [
    "In this challenge, establish if a given integer num is a Curzon number. If 1 plus 2 elevated to num is exactly divisible by 1 plus 2 multiplied by num, then num is a Curzon number.\n",
    "Given a non-negative integer num, implement a function that returns True if num is a Curzon number, or False otherwise.\n",
    "Examples\n",
    "is_curzon(5) ➞ True\n",
    "# 2 ** 5 + 1 = 33\n",
    "# 2 * 5 + 1 = 11\n",
    "# 33 is a multiple of 11\n",
    "\n",
    "is_curzon(10) ➞ False\n",
    "# 2 ** 10 + 1 = 1025\n",
    "# 2 * 10 + 1 = 21\n",
    "# 1025 is not a multiple of 21\n",
    "\n",
    "is_curzon(14) ➞ True\n",
    "# 2 ** 14 + 1 = 16385\n",
    "# 2 * 14 + 1 = 29\n",
    "# 16385 is a multiple of 29\n"
   ]
  },
  {
   "cell_type": "code",
   "execution_count": 38,
   "metadata": {},
   "outputs": [
    {
     "data": {
      "text/plain": [
       "True"
      ]
     },
     "execution_count": 38,
     "metadata": {},
     "output_type": "execute_result"
    }
   ],
   "source": [
    "def is_curzon(num):\n",
    "    if (2**num+1)%(num*2+1) == 0:\n",
    "        return True\n",
    "    else:\n",
    "        return False\n",
    "   \n",
    "is_curzon(5)\n",
    "is_curzon(10)\n",
    "is_curzon(14)"
   ]
  },
  {
   "cell_type": "markdown",
   "metadata": {},
   "source": [
    "## Question-4"
   ]
  },
  {
   "cell_type": "raw",
   "metadata": {},
   "source": [
    "Given the side length x find the area of a hexagon.\n",
    " \n",
    "Examples\n",
    "area_of_hexagon(1) ➞ 2.6\n",
    "\n",
    "area_of_hexagon(2) ➞ 10.4\n",
    "\n",
    "area_of_hexagon(3) ➞ 23.4"
   ]
  },
  {
   "cell_type": "code",
   "execution_count": 19,
   "metadata": {},
   "outputs": [
    {
     "data": {
      "text/plain": [
       "23.4"
      ]
     },
     "execution_count": 19,
     "metadata": {},
     "output_type": "execute_result"
    }
   ],
   "source": [
    "def area_of_hexagon(n):\n",
    "    area = (3*((3)**0.5)*(n**2))/2\n",
    "    return round(area, 1)\n",
    "\n",
    "area_of_hexagon(1)\n",
    "area_of_hexagon(2)\n",
    "area_of_hexagon(3)"
   ]
  },
  {
   "cell_type": "markdown",
   "metadata": {},
   "source": [
    "## Question-5"
   ]
  },
  {
   "cell_type": "raw",
   "metadata": {},
   "source": [
    "Create a function that returns a base-2 (binary) representation of a base-10 (decimal) string number. To convert is simple: ((2) means base-2 and (10) means base-10) 010101001(2) = 1 + 8 + 32 + 128.\n",
    "Going from right to left, the value of the most right bit is 1, now from that every bit to the left will be x2 the value, value of an 8 bit binary numbers are (256, 128, 64, 32, 16, 8, 4, 2, 1).\n",
    "Examples\n",
    "binary(1) ➞ \"1\"\n",
    "# 1*1 = 1\n",
    "\n",
    "binary(5) ➞ \"101\"\n",
    "# 1*1 + 1*4 = 5\n",
    "\n",
    "binary(10) ➞ \"1010\"\n",
    "# 1*2 + 1*8 = 10\n"
   ]
  },
  {
   "cell_type": "code",
   "execution_count": 33,
   "metadata": {},
   "outputs": [
    {
     "data": {
      "text/plain": [
       "101"
      ]
     },
     "execution_count": 33,
     "metadata": {},
     "output_type": "execute_result"
    }
   ],
   "source": [
    "def binary(n):\n",
    "    mylist=[]\n",
    "    while n>1:\n",
    "        if (n%2) == 0:\n",
    "            mylist.append('0')\n",
    "        else:\n",
    "            mylist.append('1')\n",
    "        n = n//2\n",
    "            \n",
    "    mylist.append('1')\n",
    "    mylist = mylist[::-1]\n",
    "    return int(''.join(mylist))\n",
    "\n",
    "binary(1)\n",
    "binary(5)\n",
    "binary(10)"
   ]
  },
  {
   "cell_type": "code",
   "execution_count": null,
   "metadata": {},
   "outputs": [],
   "source": []
  }
 ],
 "metadata": {
  "kernelspec": {
   "display_name": "Python 3",
   "language": "python",
   "name": "python3"
  },
  "language_info": {
   "codemirror_mode": {
    "name": "ipython",
    "version": 3
   },
   "file_extension": ".py",
   "mimetype": "text/x-python",
   "name": "python",
   "nbconvert_exporter": "python",
   "pygments_lexer": "ipython3",
   "version": "3.7.6"
  }
 },
 "nbformat": 4,
 "nbformat_minor": 4
}
