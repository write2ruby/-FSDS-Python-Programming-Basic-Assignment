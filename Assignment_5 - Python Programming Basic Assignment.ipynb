{
 "cells": [
  {
   "cell_type": "markdown",
   "metadata": {},
   "source": [
    "### 1. Write a Python Program to Find LCM?"
   ]
  },
  {
   "cell_type": "code",
   "execution_count": 8,
   "metadata": {},
   "outputs": [
    {
     "name": "stdout",
     "output_type": "stream",
     "text": [
      "Please enter first number: 15\n",
      "Please enter second number: 20\n",
      "LCM of 15 and 20 is 60.0\n"
     ]
    }
   ],
   "source": [
    "def hcf(a,b):\n",
    "    if a == 0:\n",
    "        return b\n",
    "    return hcf(b % a, a)\n",
    " \n",
    "def lcm(a,b):\n",
    "    return (a / hcf(a,b))* b\n",
    "\n",
    "a = int(input(\"Please enter first number: \"))\n",
    "b = int(input(\"Please enter second number: \"))\n",
    "\n",
    "print('LCM of', a, 'and', b, 'is', lcm(a, b))"
   ]
  },
  {
   "cell_type": "markdown",
   "metadata": {},
   "source": [
    "### 2.\tWrite a Python Program to Find HCF?"
   ]
  },
  {
   "cell_type": "code",
   "execution_count": 7,
   "metadata": {},
   "outputs": [
    {
     "name": "stdout",
     "output_type": "stream",
     "text": [
      "Please enter first number: 59\n",
      "Please enter second number: 45\n"
     ]
    },
    {
     "data": {
      "text/plain": [
       "1"
      ]
     },
     "execution_count": 7,
     "metadata": {},
     "output_type": "execute_result"
    }
   ],
   "source": [
    "def hcf(a,b):\n",
    "    if a == 0:\n",
    "        return b\n",
    "    return hcf(b % a, a)\n",
    "\n",
    "\n",
    "a = int(input(\"Please enter first number: \"))\n",
    "b = int(input(\"Please enter second number: \"))\n",
    "\n",
    "hcf(a, b)"
   ]
  },
  {
   "cell_type": "markdown",
   "metadata": {},
   "source": [
    "### 3. Write a Python Program to Convert Decimal to Binary, Octal and Hexadecimal?"
   ]
  },
  {
   "cell_type": "code",
   "execution_count": 9,
   "metadata": {},
   "outputs": [
    {
     "name": "stdout",
     "output_type": "stream",
     "text": [
      "Please enter the number: 56\n",
      "Binary of the number:  0b111000\n",
      "Octal of the number:  0o70\n",
      "Hexadecimal of the number:  0x38\n"
     ]
    }
   ],
   "source": [
    "num = int(input(\"Please enter the number: \"))\n",
    "\n",
    "print(\"Binary of the number: \", bin(num))\n",
    "print(\"Octal of the number: \", oct(num))\n",
    "print(\"Hexadecimal of the number: \", hex(num))"
   ]
  },
  {
   "cell_type": "markdown",
   "metadata": {},
   "source": [
    "### 4. Write a Python Program To Find ASCII value of a character?"
   ]
  },
  {
   "cell_type": "code",
   "execution_count": 1,
   "metadata": {},
   "outputs": [
    {
     "name": "stdout",
     "output_type": "stream",
     "text": [
      "Please Enter the charater: k\n",
      "107\n"
     ]
    }
   ],
   "source": [
    "ch1 = input(\"Please Enter the charater: \")\n",
    "print (ord(ch1))"
   ]
  },
  {
   "cell_type": "markdown",
   "metadata": {},
   "source": [
    "### 5.\tWrite a Python Program to Make a Simple Calculator with 4 basic mathematical operations?"
   ]
  },
  {
   "cell_type": "code",
   "execution_count": 3,
   "metadata": {},
   "outputs": [
    {
     "name": "stdout",
     "output_type": "stream",
     "text": [
      "1 - Addition\n",
      "2 - Subtraction\n",
      "3 - Multiplication\n",
      "4 - Division\n",
      "Please enter your choice: 3\n",
      "Please enter first number: 3\n",
      "Please enter second number: 4\n",
      "Multiplication of 3 and 4 is: 12\n"
     ]
    }
   ],
   "source": [
    "print(\"1 - Addition\")\n",
    "print(\"2 - Subtraction\")\n",
    "print(\"3 - Multiplication\")\n",
    "print(\"4 - Division\")\n",
    "\n",
    "choice = int(input(\"Please enter your choice: \"))\n",
    "\n",
    "a = int(input(\"Please enter first number: \"))\n",
    "b = int(input(\"Please enter second number: \"))\n",
    "\n",
    "if choice == 1:\n",
    "    print (f'Addition of {a} and {b} is:', (a+b))\n",
    "elif choice == 2:\n",
    "    print (f'Subtraction of {a} and {b} is:', (a-b))\n",
    "elif choice == 3:\n",
    "     print (f'Multiplication of {a} and {b} is:', a*b)\n",
    "else:\n",
    "    print (f'Division of {a} and {b} is:', a/b)"
   ]
  },
  {
   "cell_type": "code",
   "execution_count": null,
   "metadata": {},
   "outputs": [],
   "source": []
  }
 ],
 "metadata": {
  "kernelspec": {
   "display_name": "Python 3",
   "language": "python",
   "name": "python3"
  },
  "language_info": {
   "codemirror_mode": {
    "name": "ipython",
    "version": 3
   },
   "file_extension": ".py",
   "mimetype": "text/x-python",
   "name": "python",
   "nbconvert_exporter": "python",
   "pygments_lexer": "ipython3",
   "version": "3.7.6"
  }
 },
 "nbformat": 4,
 "nbformat_minor": 4
}
