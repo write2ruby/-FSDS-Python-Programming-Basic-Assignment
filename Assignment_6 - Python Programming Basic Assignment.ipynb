{
 "cells": [
  {
   "cell_type": "markdown",
   "metadata": {},
   "source": [
    "### 1. Write a Python Program to Display Fibonacci Sequence Using Recursion?"
   ]
  },
  {
   "cell_type": "code",
   "execution_count": 25,
   "metadata": {},
   "outputs": [
    {
     "name": "stdout",
     "output_type": "stream",
     "text": [
      "Please enter value of n: 6\n",
      "0\n",
      "1\n",
      "1\n",
      "2\n",
      "3\n",
      "5\n",
      "8\n"
     ]
    }
   ],
   "source": [
    "def fibbo(n):\n",
    "   if n<=1:\n",
    "    return (n)\n",
    "   else:\n",
    "    return fibbo(n-1) + fibbo(n-2)\n",
    "\n",
    "n = int(input(\"Please enter value of n: \"))\n",
    "if n>=1:\n",
    "    for i in range(n+1):\n",
    "        print (fibbo(i))"
   ]
  },
  {
   "cell_type": "markdown",
   "metadata": {},
   "source": [
    "### 2.\tWrite a Python Program to Find Factorial of Number Using Recursion?"
   ]
  },
  {
   "cell_type": "code",
   "execution_count": 20,
   "metadata": {},
   "outputs": [
    {
     "name": "stdout",
     "output_type": "stream",
     "text": [
      "Please enter value of n: 5\n",
      "120\n"
     ]
    }
   ],
   "source": [
    "def facto(n):\n",
    "    fact=1\n",
    "    if n==1:\n",
    "        return 1\n",
    "    else:\n",
    "        fact = n * facto(n-1)\n",
    "        return fact\n",
    "        \n",
    "n = int(input(\"Please enter value of n: \"))\n",
    "if n>0:\n",
    "    b = facto(n)\n",
    "    print (b)"
   ]
  },
  {
   "cell_type": "markdown",
   "metadata": {},
   "source": [
    "### 3. Write a Python Program to calculate your Body Mass Index?"
   ]
  },
  {
   "cell_type": "code",
   "execution_count": 16,
   "metadata": {},
   "outputs": [
    {
     "name": "stdout",
     "output_type": "stream",
     "text": [
      "Please enter weight in kg: 75\n",
      "Please enter height in meters: 1.69\n",
      "BMI is  26.26\n"
     ]
    }
   ],
   "source": [
    "weight = float(input(\"Please enter weight in kg: \"))\n",
    "height = float(input(\"Please enter height in meters: \"))\n",
    "\n",
    "print(\"BMI is \", round(weight/(height**2), 2))"
   ]
  },
  {
   "cell_type": "markdown",
   "metadata": {},
   "source": [
    "### 4. Write a Python Program to calculate the natural logarithm of any number?"
   ]
  },
  {
   "cell_type": "code",
   "execution_count": 10,
   "metadata": {},
   "outputs": [
    {
     "name": "stdout",
     "output_type": "stream",
     "text": [
      "Please enter value of n: 100\n",
      "The natural logarithm of 100 is  2.0\n"
     ]
    }
   ],
   "source": [
    "import math\n",
    "\n",
    "n = int(input(\"Please enter value of n: \"))\n",
    "\n",
    "print(f'The natural logarithm of {n} is ', math.log(n,10))"
   ]
  },
  {
   "cell_type": "markdown",
   "metadata": {},
   "source": [
    "### 5.\tWrite a Python Program for cube sum of first n natural numbers?"
   ]
  },
  {
   "cell_type": "code",
   "execution_count": 8,
   "metadata": {},
   "outputs": [
    {
     "name": "stdout",
     "output_type": "stream",
     "text": [
      "Please enter value of n: 5\n",
      "The sum of 5 natural numbers is 225.0\n"
     ]
    }
   ],
   "source": [
    "n = int(input(\"Please enter value of n: \"))\n",
    "\n",
    "sum = ((n**2) * (n+1)**2)/4\n",
    "\n",
    "print(f'The sum of {n} natural numbers is {sum}')"
   ]
  },
  {
   "cell_type": "code",
   "execution_count": null,
   "metadata": {},
   "outputs": [],
   "source": []
  }
 ],
 "metadata": {
  "kernelspec": {
   "display_name": "Python 3",
   "language": "python",
   "name": "python3"
  },
  "language_info": {
   "codemirror_mode": {
    "name": "ipython",
    "version": 3
   },
   "file_extension": ".py",
   "mimetype": "text/x-python",
   "name": "python",
   "nbconvert_exporter": "python",
   "pygments_lexer": "ipython3",
   "version": "3.7.6"
  }
 },
 "nbformat": 4,
 "nbformat_minor": 4
}
